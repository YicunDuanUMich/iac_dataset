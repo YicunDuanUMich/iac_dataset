{
 "cells": [
  {
   "cell_type": "code",
   "execution_count": 1,
   "metadata": {},
   "outputs": [],
   "source": [
    "import pandas as pd\n",
    "from pathlib import Path\n",
    "import math"
   ]
  },
  {
   "cell_type": "code",
   "execution_count": 2,
   "metadata": {},
   "outputs": [
    {
     "name": "stderr",
     "output_type": "stream",
     "text": [
      "/home/yicun/anaconda3/envs/iac-eval/lib/python3.10/site-packages/tqdm/auto.py:21: TqdmWarning: IProgress not found. Please update jupyter and ipywidgets. See https://ipywidgets.readthedocs.io/en/stable/user_install.html\n",
      "  from .autonotebook import tqdm as notebook_tqdm\n"
     ]
    }
   ],
   "source": [
    "output_path = Path(\"./\")\n",
    "df = pd.read_csv(\"hf://datasets/autoiac-project/iac-eval/data.csv\")"
   ]
  },
  {
   "cell_type": "code",
   "execution_count": 3,
   "metadata": {},
   "outputs": [],
   "source": [
    "for i, row in df.iterrows():\n",
    "    dif = row[\"Difficulty\"]\n",
    "    dif_folder = output_path / f\"difficulty_{dif:02d}\"\n",
    "    dif_folder.mkdir(exist_ok=True)\n",
    "    data_path = dif_folder / f\"case_{i:03d}\"\n",
    "    data_path.mkdir()\n",
    "    with open(data_path / \"resource.txt\", \"wt\") as f:\n",
    "        f.write(row[\"Resource\"])\n",
    "    with open(data_path / \"prompt.txt\", \"wt\") as f:\n",
    "        f.write(row[\"Prompt\"])\n",
    "    with open(data_path / \"rego_intent.rego\", \"wt\") as f:\n",
    "        f.write(row[\"Rego intent\"])\n",
    "    with open(data_path / \"main.tf\", \"wt\") as f:\n",
    "        f.write(row[\"Reference output\"])\n",
    "    with open(data_path / \"intent.txt\", \"wt\") as f:\n",
    "        if isinstance(row[\"Intent\"], str):\n",
    "            f.write(row[\"Intent\"])"
   ]
  }
 ],
 "metadata": {
  "kernelspec": {
   "display_name": "iac-eval",
   "language": "python",
   "name": "python3"
  },
  "language_info": {
   "codemirror_mode": {
    "name": "ipython",
    "version": 3
   },
   "file_extension": ".py",
   "mimetype": "text/x-python",
   "name": "python",
   "nbconvert_exporter": "python",
   "pygments_lexer": "ipython3",
   "version": "3.10.14"
  }
 },
 "nbformat": 4,
 "nbformat_minor": 2
}
